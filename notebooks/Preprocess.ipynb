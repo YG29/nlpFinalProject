{
 "cells": [
  {
   "cell_type": "code",
   "execution_count": 54,
   "id": "initial_id",
   "metadata": {
    "collapsed": true,
    "ExecuteTime": {
     "end_time": "2024-03-16T12:16:24.383195Z",
     "start_time": "2024-03-16T12:16:24.362353Z"
    }
   },
   "outputs": [
    {
     "name": "stderr",
     "output_type": "stream",
     "text": [
      "[nltk_data] Downloading package stopwords to /Users/ygao/nltk_data...\n",
      "[nltk_data]   Package stopwords is already up-to-date!\n",
      "[nltk_data] Downloading package wordnet to /Users/ygao/nltk_data...\n",
      "[nltk_data]   Package wordnet is already up-to-date!\n"
     ]
    }
   ],
   "source": [
    "import pandas as pd\n",
    "import numpy as np\n",
    "import matplotlib.pyplot as plt\n",
    "\n",
    "# data split\n",
    "from sklearn.model_selection import train_test_split\n",
    "\n",
    "import tensorflow as tf\n",
    "\n",
    "# nlp preprocessing\n",
    "import re\n",
    "import nltk\n",
    "nltk.download('stopwords')\n",
    "nltk.download('wordnet')\n",
    "from nltk.corpus import stopwords\n",
    "from nltk.stem import WordNetLemmatizer\n",
    "from nltk.tokenize import wordpunct_tokenize\n",
    "from nltk.tokenize import RegexpTokenizer\n",
    "import contractions # to deal with english contractions"
   ]
  },
  {
   "cell_type": "code",
   "execution_count": 23,
   "outputs": [],
   "source": [
    "EN_FILE_PATH = '../data/nl-en/europarl-v7.nl-en.en'\n",
    "NL_FILE_PATH = '../data/nl-en/europarl-v7.nl-en.nl'\n",
    "RANDOM_SEED = 297"
   ],
   "metadata": {
    "collapsed": false,
    "ExecuteTime": {
     "end_time": "2024-03-14T12:25:55.658460Z",
     "start_time": "2024-03-14T12:25:55.654805Z"
    }
   },
   "id": "f66906fa49dee773"
  },
  {
   "cell_type": "code",
   "execution_count": 14,
   "outputs": [],
   "source": [
    "# load data into data frames\n",
    "def load(file_path):\n",
    "    try:\n",
    "        with open(file_path, 'r', encoding='utf-8') as file:\n",
    "            lines = file.readlines()\n",
    "        lines = [line.strip() for line in lines]\n",
    "        data = pd.DataFrame({'Text': lines})\n",
    "        return data\n",
    "    except FileNotFoundError:\n",
    "        print(f\"Error: File '{file_path}' not found.\")\n",
    "        return None\n",
    "    except Exception as e:\n",
    "        print(f\"Error loading file '{file_path}': {e}\")\n",
    "        return None"
   ],
   "metadata": {
    "collapsed": false,
    "ExecuteTime": {
     "end_time": "2024-03-14T11:45:24.752045Z",
     "start_time": "2024-03-14T11:45:24.745554Z"
    }
   },
   "id": "aaeb8cea43fd2ad3"
  },
  {
   "cell_type": "code",
   "execution_count": 36,
   "outputs": [],
   "source": [
    "# custom print function to check the dataframe\n",
    "def printCheck(df):\n",
    "    for index, row in df.head().iterrows():\n",
    "        print(f\"{index}: {row['Text'][:1000]}\")"
   ],
   "metadata": {
    "collapsed": false,
    "ExecuteTime": {
     "end_time": "2024-03-14T12:38:26.069699Z",
     "start_time": "2024-03-14T12:38:26.060940Z"
    }
   },
   "id": "b6763ce6b72d077b"
  },
  {
   "cell_type": "code",
   "execution_count": 27,
   "outputs": [
    {
     "name": "stdout",
     "output_type": "stream",
     "text": [
      "English Corpus\n",
      "0: Resumption of the session\n",
      "1: I declare resumed the session of the European Parliament adjourned on Friday 17 December 1999, and I would like once again to wish you a happy new year in the hope that you enjoyed a pleasant festive period.\n",
      "2: Although, as you will have seen, the dreaded 'millennium bug' failed to materialise, still the people in a number of countries suffered a series of natural disasters that truly were dreadful.\n",
      "3: You have requested a debate on this subject in the course of the next few days, during this part-session.\n",
      "4: In the meantime, I should like to observe a minute' s silence, as a number of Members have requested, on behalf of all the victims concerned, particularly those of the terrible storms, in the various countries of the European Union.\n",
      "Dutch Corpus\n",
      "0: Hervatting van de zitting\n",
      "1: Ik verklaar de zitting van het Europees Parlement, die op vrijdag 17 december werd onderbroken, te zijn hervat. Ik wens u allen een gelukkig nieuwjaar en hoop dat u een goede vakantie heeft gehad.\n",
      "2: Zoals u heeft kunnen constateren, is de grote \"millenniumbug\" uitgebleven. De burgers van een aantal van onze lidstaten zijn daarentegen door verschrikkelijke natuurrampen getroffen.\n",
      "3: U heeft aangegeven dat u deze vergaderperiode een debat wilt over deze rampen.\n",
      "4: Nu wil ik graag op verzoek van een aantal collega's een minuut stilte in acht nemen ter nagedachtenis van de slachtoffers. Ik doel hiermee met name op de slachtoffers van het noodweer dat verschillende lidstaten van de Unie heeft geteisterd.\n"
     ]
    }
   ],
   "source": [
    "en_data = load(EN_FILE_PATH)\n",
    "nl_data = load(NL_FILE_PATH)\n",
    "print('English Corpus')\n",
    "printCheck(en_data)\n",
    "print('Dutch Corpus')\n",
    "printCheck(nl_data)"
   ],
   "metadata": {
    "collapsed": false,
    "ExecuteTime": {
     "end_time": "2024-03-14T12:30:30.926107Z",
     "start_time": "2024-03-14T12:30:29.367837Z"
    }
   },
   "id": "23688776788347ae"
  },
  {
   "cell_type": "code",
   "execution_count": 34,
   "outputs": [],
   "source": [
    "# train, val, test split\n",
    "# reorder and reassign the indeces\n",
    "en_train, en_test, nl_train, nl_test = train_test_split(en_data, nl_data, test_size=0.1, random_state=RANDOM_SEED)\n",
    "en_test.sort_index(inplace=True, ignore_index=True)\n",
    "nl_test.sort_index(inplace=True, ignore_index=True)\n",
    "en_train, en_val, nl_train, nl_val = train_test_split(en_train, nl_train, test_size=0.11, random_state=RANDOM_SEED)\n",
    "en_train.sort_index(inplace=True, ignore_index=True)\n",
    "nl_train.sort_index(inplace=True, ignore_index=True)\n",
    "en_val.sort_index(inplace=True, ignore_index=True)\n",
    "nl_val.sort_index(inplace=True, ignore_index=True)"
   ],
   "metadata": {
    "collapsed": false,
    "ExecuteTime": {
     "end_time": "2024-03-14T12:37:40.768967Z",
     "start_time": "2024-03-14T12:37:39.975026Z"
    }
   },
   "id": "657c340ead8ac8c7"
  },
  {
   "cell_type": "code",
   "execution_count": 35,
   "outputs": [
    {
     "name": "stdout",
     "output_type": "stream",
     "text": [
      "0: I declare resumed the session of the European Parliament adjourned on Friday 17 December 1999, and I would like once again to wish you a happy new year in the hope that you enjoyed a pleasant festive period.\n",
      "1: In the meantime, I should like to observe a minute' s silence, as a number of Members have requested, on behalf of all the victims concerned, particularly those of the terrible storms, in the various countries of the European Union.\n",
      "2: Please rise, then, for this minute' s silence.\n",
      "3: (The House rose and observed a minute' s silence)\n",
      "4: Madam President, on a point of order.\n",
      "0: Ik verklaar de zitting van het Europees Parlement, die op vrijdag 17 december werd onderbroken, te zijn hervat. Ik wens u allen een gelukkig nieuwjaar en hoop dat u een goede vakantie heeft gehad.\n",
      "1: Nu wil ik graag op verzoek van een aantal collega's een minuut stilte in acht nemen ter nagedachtenis van de slachtoffers. Ik doel hiermee met name op de slachtoffers van het noodweer dat verschillende lidstaten van de Unie heeft geteisterd.\n",
      "2: Ik wil u vragen deze minuut stilte staande in acht te nemen.\n",
      "3: (Het Parlement neemt staande een minuut stilte in acht)\n",
      "4: Mevrouw de Voorzitter, ik wil een motie van orde stellen.\n"
     ]
    }
   ],
   "source": [
    "printCheck(en_train)\n",
    "printCheck(nl_train)"
   ],
   "metadata": {
    "collapsed": false,
    "ExecuteTime": {
     "end_time": "2024-03-14T12:37:42.319881Z",
     "start_time": "2024-03-14T12:37:42.315130Z"
    }
   },
   "id": "44f8a36491b2415a"
  },
  {
   "cell_type": "code",
   "execution_count": 58,
   "outputs": [],
   "source": [
    "# clean text\n",
    "\n",
    "def clean_text(df, eng = True):\n",
    "    cleaned_texts = []\n",
    "    lemmatizer = WordNetLemmatizer()\n",
    "    if eng:\n",
    "        stop_words = stopwords.words('english')\n",
    "    else:\n",
    "        stop_words = stopwords.words('dutch')\n",
    "        \n",
    "    for index, row in df.iterrows():\n",
    "        text = row['Text']\n",
    "        text = text.lower() #covert to lower case\n",
    "        text = contractions.fix(text) #extend english contractions\n",
    "        text = re.sub(r'[^A-Za-z0-9\\s\\'s]', '', text) #keep only alphabets, numbers, and space, maybe add in' as well for possessive\n",
    "        \n",
    "        tokens = wordpunct_tokenize(text) #tokenize by words\n",
    "        # tokens = [token for token in tokens if token not in stop_words] #delete stop words (maybe not deleting stopwords)\n",
    "        cleaned_text = ' '.join(tokens)\n",
    "        cleaned_texts.append(cleaned_text)\n",
    "    #return the text in a dataframe\n",
    "    df_cleaned = pd.DataFrame(cleaned_texts, columns=['Text'])\n",
    "    return df_cleaned"
   ],
   "metadata": {
    "collapsed": false,
    "ExecuteTime": {
     "end_time": "2024-03-16T12:20:23.581445Z",
     "start_time": "2024-03-16T12:20:23.571742Z"
    }
   },
   "id": "1a2fcb8474b2f0d8"
  },
  {
   "cell_type": "code",
   "execution_count": 59,
   "outputs": [],
   "source": [
    "# clean text and check\n",
    "en_train_clean = clean_text(en_train)\n",
    "nl_train_clean = clean_text(nl_train, eng=False)"
   ],
   "metadata": {
    "collapsed": false,
    "ExecuteTime": {
     "end_time": "2024-03-16T12:22:00.160181Z",
     "start_time": "2024-03-16T12:20:30.248309Z"
    }
   },
   "id": "fd239d64e94acee9"
  },
  {
   "cell_type": "code",
   "execution_count": 60,
   "outputs": [
    {
     "name": "stdout",
     "output_type": "stream",
     "text": [
      "0: i declare resumed the session of the european parliament adjourned on friday 17 december 1999 and i would like once again to wish you a happy new year in the hope that you enjoyed a pleasant festive period\n",
      "1: in the meantime i should like to observe a minute ' s silence as a number of members have requested on behalf of all the victims concerned particularly those of the terrible storms in the various countries of the european union\n",
      "2: please rise then for this minute ' s silence\n",
      "3: the house rose and observed a minute ' s silence\n",
      "4: madam president on a point of order\n",
      "0: ik verklaar de zitting van het europees parlement die op vrijdag 17 december werd onderbroken te zijn hervat ik wens you allen een gelukkig nieuwjaar en hoop dat you een goede vakantie heeft gehad\n",
      "1: nu wil ik graag op verzoek van een aantal collega ' s een minuut stilte in acht nemen ter nagedachtenis van de slachtoffers ik doel hiermee met name op de slachtoffers van het noodweer dat verschillende lidstaten van de unie heeft geteisterd\n",
      "2: ik wil you vragen deze minuut stilte staande in acht te nemen\n",
      "3: het parlement neemt staande een minuut stilte in acht\n",
      "4: mevrouw de voorzitter ik wil een motie van orde stellen\n"
     ]
    }
   ],
   "source": [
    "printCheck(en_train_clean)\n",
    "printCheck(nl_train_clean)"
   ],
   "metadata": {
    "collapsed": false,
    "ExecuteTime": {
     "end_time": "2024-03-16T12:22:24.249794Z",
     "start_time": "2024-03-16T12:22:24.239975Z"
    }
   },
   "id": "b6b39c5860dc6ed"
  },
  {
   "cell_type": "code",
   "execution_count": null,
   "outputs": [],
   "source": [],
   "metadata": {
    "collapsed": false
   },
   "id": "d4d6e6dc8e7e24ad"
  }
 ],
 "metadata": {
  "kernelspec": {
   "display_name": "Python 3",
   "language": "python",
   "name": "python3"
  },
  "language_info": {
   "codemirror_mode": {
    "name": "ipython",
    "version": 2
   },
   "file_extension": ".py",
   "mimetype": "text/x-python",
   "name": "python",
   "nbconvert_exporter": "python",
   "pygments_lexer": "ipython2",
   "version": "2.7.6"
  }
 },
 "nbformat": 4,
 "nbformat_minor": 5
}
