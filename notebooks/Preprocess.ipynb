{
 "cells": [
  {
   "cell_type": "code",
   "execution_count": 39,
   "id": "initial_id",
   "metadata": {
    "collapsed": true,
    "ExecuteTime": {
     "end_time": "2024-03-16T15:50:01.842127Z",
     "start_time": "2024-03-16T15:50:01.337255Z"
    }
   },
   "outputs": [
    {
     "name": "stderr",
     "output_type": "stream",
     "text": [
      "[nltk_data] Downloading package stopwords to /Users/ygao/nltk_data...\n",
      "[nltk_data]   Package stopwords is already up-to-date!\n",
      "[nltk_data] Downloading package wordnet to /Users/ygao/nltk_data...\n",
      "[nltk_data]   Package wordnet is already up-to-date!\n"
     ]
    }
   ],
   "source": [
    "import os\n",
    "import pandas as pd\n",
    "import numpy as np\n",
    "import matplotlib.pyplot as plt\n",
    "\n",
    "# data split\n",
    "from sklearn.model_selection import train_test_split\n",
    "\n",
    "import tensorflow as tf\n",
    "\n",
    "# nlp preprocessing\n",
    "import re\n",
    "import nltk\n",
    "nltk.download('stopwords')\n",
    "nltk.download('wordnet')\n",
    "from nltk.corpus import stopwords\n",
    "from nltk.stem import WordNetLemmatizer\n",
    "from nltk.tokenize import wordpunct_tokenize\n",
    "import contractions # to deal with english contractions\n",
    "\n",
    "from transformers import AutoTokenizer"
   ]
  },
  {
   "cell_type": "code",
   "execution_count": 2,
   "outputs": [],
   "source": [
    "EN_FILE_PATH = '../data/nl-en/europarl-v7.nl-en.en'\n",
    "NL_FILE_PATH = '../data/nl-en/europarl-v7.nl-en.nl'\n",
    "CLEAN_DATA_PATH = '../data/clean/'\n",
    "\n",
    "RANDOM_SEED = 297"
   ],
   "metadata": {
    "collapsed": false,
    "ExecuteTime": {
     "end_time": "2024-03-16T15:22:10.394071Z",
     "start_time": "2024-03-16T15:22:10.391924Z"
    }
   },
   "id": "f66906fa49dee773"
  },
  {
   "cell_type": "code",
   "execution_count": 3,
   "outputs": [],
   "source": [
    "# load data into data frames\n",
    "def load(file_path):\n",
    "    try:\n",
    "        with open(file_path, 'r', encoding='utf-8') as file:\n",
    "            lines = file.readlines()\n",
    "        lines = [line.strip() for line in lines]\n",
    "        data = pd.DataFrame({'Text': lines})\n",
    "        return data\n",
    "    except FileNotFoundError:\n",
    "        print(f\"Error: File '{file_path}' not found.\")\n",
    "        return None\n",
    "    except Exception as e:\n",
    "        print(f\"Error loading file '{file_path}': {e}\")\n",
    "        return None"
   ],
   "metadata": {
    "collapsed": false,
    "ExecuteTime": {
     "end_time": "2024-03-16T15:22:12.732853Z",
     "start_time": "2024-03-16T15:22:12.725726Z"
    }
   },
   "id": "aaeb8cea43fd2ad3"
  },
  {
   "cell_type": "code",
   "execution_count": 4,
   "outputs": [],
   "source": [
    "# custom print function to check the dataframe\n",
    "def printCheck(df):\n",
    "    for index, row in df.head().iterrows():\n",
    "        print(f\"{index}: {row['Text'][:1000]}\")"
   ],
   "metadata": {
    "collapsed": false,
    "ExecuteTime": {
     "end_time": "2024-03-16T15:22:17.985097Z",
     "start_time": "2024-03-16T15:22:17.977363Z"
    }
   },
   "id": "b6763ce6b72d077b"
  },
  {
   "cell_type": "code",
   "execution_count": 5,
   "outputs": [
    {
     "name": "stdout",
     "output_type": "stream",
     "text": [
      "English Corpus\n",
      "0: Resumption of the session\n",
      "1: I declare resumed the session of the European Parliament adjourned on Friday 17 December 1999, and I would like once again to wish you a happy new year in the hope that you enjoyed a pleasant festive period.\n",
      "2: Although, as you will have seen, the dreaded 'millennium bug' failed to materialise, still the people in a number of countries suffered a series of natural disasters that truly were dreadful.\n",
      "3: You have requested a debate on this subject in the course of the next few days, during this part-session.\n",
      "4: In the meantime, I should like to observe a minute' s silence, as a number of Members have requested, on behalf of all the victims concerned, particularly those of the terrible storms, in the various countries of the European Union.\n",
      "Dutch Corpus\n",
      "0: Hervatting van de zitting\n",
      "1: Ik verklaar de zitting van het Europees Parlement, die op vrijdag 17 december werd onderbroken, te zijn hervat. Ik wens u allen een gelukkig nieuwjaar en hoop dat u een goede vakantie heeft gehad.\n",
      "2: Zoals u heeft kunnen constateren, is de grote \"millenniumbug\" uitgebleven. De burgers van een aantal van onze lidstaten zijn daarentegen door verschrikkelijke natuurrampen getroffen.\n",
      "3: U heeft aangegeven dat u deze vergaderperiode een debat wilt over deze rampen.\n",
      "4: Nu wil ik graag op verzoek van een aantal collega's een minuut stilte in acht nemen ter nagedachtenis van de slachtoffers. Ik doel hiermee met name op de slachtoffers van het noodweer dat verschillende lidstaten van de Unie heeft geteisterd.\n"
     ]
    }
   ],
   "source": [
    "en_data = load(EN_FILE_PATH)\n",
    "nl_data = load(NL_FILE_PATH)\n",
    "print('English Corpus')\n",
    "printCheck(en_data)\n",
    "print('Dutch Corpus')\n",
    "printCheck(nl_data)"
   ],
   "metadata": {
    "collapsed": false,
    "ExecuteTime": {
     "end_time": "2024-03-16T15:22:20.595386Z",
     "start_time": "2024-03-16T15:22:19.062087Z"
    }
   },
   "id": "23688776788347ae"
  },
  {
   "cell_type": "code",
   "execution_count": 6,
   "outputs": [],
   "source": [
    "# train, val, test split\n",
    "# reorder and reassign the indeces\n",
    "en_train, en_test, nl_train, nl_test = train_test_split(en_data, nl_data, test_size=0.1, random_state=RANDOM_SEED)\n",
    "en_test.sort_index(inplace=True, ignore_index=True)\n",
    "nl_test.sort_index(inplace=True, ignore_index=True)\n",
    "en_train, en_val, nl_train, nl_val = train_test_split(en_train, nl_train, test_size=0.11, random_state=RANDOM_SEED)\n",
    "en_train.sort_index(inplace=True, ignore_index=True)\n",
    "nl_train.sort_index(inplace=True, ignore_index=True)\n",
    "en_val.sort_index(inplace=True, ignore_index=True)\n",
    "nl_val.sort_index(inplace=True, ignore_index=True)"
   ],
   "metadata": {
    "collapsed": false,
    "ExecuteTime": {
     "end_time": "2024-03-16T15:22:23.051603Z",
     "start_time": "2024-03-16T15:22:22.295336Z"
    }
   },
   "id": "657c340ead8ac8c7"
  },
  {
   "cell_type": "code",
   "execution_count": 7,
   "outputs": [
    {
     "name": "stdout",
     "output_type": "stream",
     "text": [
      "0: I declare resumed the session of the European Parliament adjourned on Friday 17 December 1999, and I would like once again to wish you a happy new year in the hope that you enjoyed a pleasant festive period.\n",
      "1: In the meantime, I should like to observe a minute' s silence, as a number of Members have requested, on behalf of all the victims concerned, particularly those of the terrible storms, in the various countries of the European Union.\n",
      "2: Please rise, then, for this minute' s silence.\n",
      "3: (The House rose and observed a minute' s silence)\n",
      "4: Madam President, on a point of order.\n",
      "0: Ik verklaar de zitting van het Europees Parlement, die op vrijdag 17 december werd onderbroken, te zijn hervat. Ik wens u allen een gelukkig nieuwjaar en hoop dat u een goede vakantie heeft gehad.\n",
      "1: Nu wil ik graag op verzoek van een aantal collega's een minuut stilte in acht nemen ter nagedachtenis van de slachtoffers. Ik doel hiermee met name op de slachtoffers van het noodweer dat verschillende lidstaten van de Unie heeft geteisterd.\n",
      "2: Ik wil u vragen deze minuut stilte staande in acht te nemen.\n",
      "3: (Het Parlement neemt staande een minuut stilte in acht)\n",
      "4: Mevrouw de Voorzitter, ik wil een motie van orde stellen.\n"
     ]
    }
   ],
   "source": [
    "printCheck(en_train)\n",
    "printCheck(nl_train)"
   ],
   "metadata": {
    "collapsed": false,
    "ExecuteTime": {
     "end_time": "2024-03-16T15:22:26.458744Z",
     "start_time": "2024-03-16T15:22:26.453589Z"
    }
   },
   "id": "44f8a36491b2415a"
  },
  {
   "cell_type": "code",
   "execution_count": 32,
   "outputs": [],
   "source": [
    "# clean text\n",
    "\n",
    "def clean_text(df, eng = True):\n",
    "    cleaned_texts = []\n",
    "    lemmatizer = WordNetLemmatizer() #not used\n",
    "    if eng: #not used either for now\n",
    "        stop_words = stopwords.words('english')\n",
    "    else:\n",
    "        stop_words = stopwords.words('dutch')\n",
    "        \n",
    "    for index, row in df.iterrows():\n",
    "        text = row['Text']\n",
    "        text = text.lower() #covert to lower case\n",
    "        text = contractions.fix(text) #extend english contractions\n",
    "        text = re.sub(r'[^A-Za-z0-9\\s\\'s]', '', text) #keep only alphabets, numbers, and space, maybe add in' as well for possessive\n",
    "        \n",
    "        cleaned_texts.append(text)\n",
    "    #return the text in a dataframe\n",
    "    df_cleaned = pd.DataFrame(cleaned_texts, columns=['Text'])\n",
    "    return df_cleaned, cleaned_texts"
   ],
   "metadata": {
    "collapsed": false,
    "ExecuteTime": {
     "end_time": "2024-03-16T15:38:48.823455Z",
     "start_time": "2024-03-16T15:38:48.820656Z"
    }
   },
   "id": "1a2fcb8474b2f0d8"
  },
  {
   "cell_type": "code",
   "execution_count": 33,
   "outputs": [],
   "source": [
    "# save df\n",
    "def save_df(df, path):\n",
    "    df_name = [name for name, val in globals().items() if val is df][0]\n",
    "    file_name = f\"{df_name}.csv\"\n",
    "    file_path = os.path.join(path, file_name)\n",
    "    df.to_csv(file_path, index=False)"
   ],
   "metadata": {
    "collapsed": false,
    "ExecuteTime": {
     "end_time": "2024-03-16T15:38:49.420942Z",
     "start_time": "2024-03-16T15:38:49.417391Z"
    }
   },
   "id": "98d98f99784058db"
  },
  {
   "cell_type": "code",
   "execution_count": 34,
   "outputs": [],
   "source": [
    "# clean text and check\n",
    "df_en_train_clean, en_train_clean = clean_text(en_train)\n",
    "df_nl_train_clean, nl_train_clean = clean_text(nl_train, eng=False)"
   ],
   "metadata": {
    "collapsed": false,
    "ExecuteTime": {
     "end_time": "2024-03-16T15:39:41.983318Z",
     "start_time": "2024-03-16T15:38:50.147894Z"
    }
   },
   "id": "fd239d64e94acee9"
  },
  {
   "cell_type": "code",
   "execution_count": 35,
   "outputs": [],
   "source": [
    "# clean for train, val, and test and save to data separately\n",
    "df_en_val_clean, en_val_clean = clean_text(en_val)\n",
    "df_nl_val_clean, nl_val_clean = clean_text(nl_val, eng=False)\n",
    "df_en_test_clean, en_test_clean = clean_text(en_test)\n",
    "df_nl_test_clean, nl_test_clean = clean_text(nl_test, eng=False)"
   ],
   "metadata": {
    "collapsed": false,
    "ExecuteTime": {
     "end_time": "2024-03-16T15:39:54.876016Z",
     "start_time": "2024-03-16T15:39:41.984236Z"
    }
   },
   "id": "c53ba2bc7fa1b382"
  },
  {
   "cell_type": "code",
   "execution_count": 36,
   "outputs": [],
   "source": [
    "save_df(df_en_train_clean, CLEAN_DATA_PATH)\n",
    "save_df(df_en_val_clean, CLEAN_DATA_PATH)\n",
    "save_df(df_en_test_clean, CLEAN_DATA_PATH)\n",
    "save_df(df_nl_train_clean, CLEAN_DATA_PATH)\n",
    "save_df(df_nl_val_clean, CLEAN_DATA_PATH)\n",
    "save_df(df_nl_test_clean, CLEAN_DATA_PATH)"
   ],
   "metadata": {
    "collapsed": false,
    "ExecuteTime": {
     "end_time": "2024-03-16T15:40:00.602130Z",
     "start_time": "2024-03-16T15:39:54.879428Z"
    }
   },
   "id": "e7f611d458806f5d"
  },
  {
   "cell_type": "code",
   "execution_count": 37,
   "outputs": [
    {
     "name": "stdout",
     "output_type": "stream",
     "text": [
      "0: i declare resumed the session of the european parliament adjourned on friday 17 december 1999 and i would like once again to wish you a happy new year in the hope that you enjoyed a pleasant festive period\n",
      "1: in the meantime i should like to observe a minute' s silence as a number of members have requested on behalf of all the victims concerned particularly those of the terrible storms in the various countries of the european union\n",
      "2: please rise then for this minute' s silence\n",
      "3: the house rose and observed a minute' s silence\n",
      "4: madam president on a point of order\n",
      "0: ik verklaar de zitting van het europees parlement die op vrijdag 17 december werd onderbroken te zijn hervat ik wens you allen een gelukkig nieuwjaar en hoop dat you een goede vakantie heeft gehad\n",
      "1: nu wil ik graag op verzoek van een aantal collega's een minuut stilte in acht nemen ter nagedachtenis van de slachtoffers ik doel hiermee met name op de slachtoffers van het noodweer dat verschillende lidstaten van de unie heeft geteisterd\n",
      "2: ik wil you vragen deze minuut stilte staande in acht te nemen\n",
      "3: het parlement neemt staande een minuut stilte in acht\n",
      "4: mevrouw de voorzitter ik wil een motie van orde stellen\n"
     ]
    }
   ],
   "source": [
    "printCheck(df_en_train_clean)\n",
    "printCheck(df_nl_train_clean)"
   ],
   "metadata": {
    "collapsed": false,
    "ExecuteTime": {
     "end_time": "2024-03-16T15:40:00.606907Z",
     "start_time": "2024-03-16T15:40:00.603350Z"
    }
   },
   "id": "b6b39c5860dc6ed"
  },
  {
   "cell_type": "code",
   "execution_count": 38,
   "outputs": [
    {
     "name": "stdout",
     "output_type": "stream",
     "text": [
      "['i declare resumed the session of the european parliament adjourned on friday 17 december 1999 and i would like once again to wish you a happy new year in the hope that you enjoyed a pleasant festive period', \"in the meantime i should like to observe a minute' s silence as a number of members have requested on behalf of all the victims concerned particularly those of the terrible storms in the various countries of the european union\", \"please rise then for this minute' s silence\", \"the house rose and observed a minute' s silence\", 'madam president on a point of order', 'you will be aware from the press and television that there have been a number of bomb explosions and killings in sri lanka', 'one of the people assassinated very recently in sri lanka was mr kumar ponnambalam who had visited the european parliament just a few months ago', \"would it be appropriate for you madam president to write a letter to the sri lankan president expressing parliament's regret at his and the other violent deaths in sri lanka and urging her to do everything she possibly can to seek a peaceful reconciliation to a very difficult situation\", 'yes mr evans i feel an initiative of the type you have just suggested would be entirely appropriate', 'madam president on a point of order', 'i would like your advice about rule 143 concerning inadmissibility', 'my question relates to something that will come up on thursday and which i will then raise again', 'the cunha report on multiannual guidance programmes comes before parliament on thursday and contains a proposal in paragraph 6 that a form of quota penalties should be introduced for countries which fail to meet their fleet reduction targets annually', 'i want to know whether one can raise an objection of that kind to what is merely a report not a legislative proposal and whether that is something i can competently do on thursday', 'that is precisely the time when you may if you wish raise this question ie on thursday prior to the start of the presentation of the report', \"madam president coinciding with this year' s first partsession of the european parliament a date has been set unfortunately for next thursday in texas in america for the execution of a young 34 yearold man who has been sentenced to death\", 'we shall call him mr hicks', 'at the request of a french member mr zimeray a petition has already been presented which many people signed including myself', 'however i would ask you in accordance with the line which is now constantly followed by the european parliament and by the whole of the european community to make representations using the weight of your prestigious office and the institution you represent to the president and to the governor of texas mr bush who has the power to order a stay of execution and to reprieve the condemned person', 'this is all in accordance with the principles that we have always upheld', 'thank you mr segni i shall do so gladly', 'indeed it is quite in keeping with the positions this house has always adopted', 'madam president i should like to draw your attention to a case in which this parliament has consistently shown an interest', 'we know and we have stated as much in very many resolutions indeed including specifically during the last plenary partsession of last year that this is not solely a legal case and that it is wrong for alexander nikitin to be accused of criminal activity and treason because of our involvement as the beneficiaries of his findings', \"these findings form the basis of the european programmes to protect the barents sea and that is why i would ask you to examine a draft letter setting out the most important facts and to make parliament's position as expressed in the resolutions which it has adopted clear as far as russia is concerned\", 'yes mrs schroedter i shall be pleased to look into the facts of this case when i have received your letter', 'madam president i would firstly like to compliment you on the fact that you have kept your word and that during this first partsession of the new year the number of television channels in our offices has indeed increased considerably', 'i would therefore once more ask you to ensure that we get a dutch channel as well', \"mrs plooijvan gorsel i can tell you that this matter is on the agenda for the quaestors' meeting on wednesday\", 'it will i hope be examined in a positive light', 'madam president can you tell me why this parliament does not adhere to the health and safety legislation that it actually passes', 'why has no air quality test been done on this particular building since we were elected', 'why has there been no health and safety committee meeting since 1998', 'why has there been no fire drill either in the brussels parliament buildings or the strasbourg parliament buildings', 'why are there no fire instructions', 'why have the staircases not been improved since my accident', 'it seems absolutely disgraceful that we pass legislation and do not adhere to it ourselves', 'mrs lynne you are quite right and i shall check whether this has actually not been done', 'i shall also refer the matter to the college of quaestors and i am certain that they will be keen to ensure that we comply with the regulations we ourselves vote on', 'madam president mrs dez gonzlez and i had tabled questions on certain opinions of the vicepresident mrs de palacio which appeared in a spanish newspaper', 'the competent services have not included them in the agenda on the grounds that they had been answered in a previous partsession', 'i would ask that they reconsider since this is not the case', \"the questions answered previously referred to mrs de palacio' s intervention on another occasion and not to these comments which appeared in the abc newspaper on 18 november\", 'i admit that at present the matter seems to be somewhat confused', 'we shall therefore look into it properly to ensure that everything is as it should be', \"today's decision not to renew the embargo is extremely dangerous considering the situation there so parliament should send a message since that is the wish of the vast majority\", 'it is irresponsible of eu member states to refuse to renew the embargo as people have said the situation there is extremely volatile', 'there is in fact a risk of a military coup in the future', 'we do not know what is happening so why should eu arms producers profit at the expense of innocent people', 'in any event this question is not presently included among the requests for topical and urgent debate on thursday', 'agenda', 'the next item is the verification of the final version of the draft agenda as drawn up by the conference of presidents at its meeting of 13 january pursuant to rule 110 of the rules of procedure', 'no amendments have been proposed relating to monday and tuesday', 'relating to wednesday', 'i would like mr barn crespo who made the request to speak to propose it', 'that is if he so wishes of course then we shall follow the usual procedure hearing one speaker in favour and one against', \"madam president the presentation of the prodi commission' s political programme for the whole legislature was initially a proposal by the group of the party of european socialists which was unanimously approved by the conference of presidents in september and which was also explicitly accepted by president prodi who reiterated his commitment in his inaugural speech\", \"this commitment is important because the commission is a body with a monopoly of initiative in accordance with the treaties and therefore basically dictates this parliament' s political and legislative activity for the next five years\", 'i would also like to point out madam president that this parliament voted to express its confidence in president prodi during the previous legislature', 'there has therefore been enough time for the commission to prepare its programme and for us to become familiar with it and explain it to our citizens', 'to this end i would like to remind you of the resolution of 15 september which recommended that the proposal be presented as soon as possible', 'the events of last week  which originated outside the conference of presidents that conference being used simply to corroborate and ratify decisions taken elsewhere  present us with a dilemma', 'either the commission is not ready to present this programme in which case it should clarify it according to its president it is in a position to do so', 'given that the commission is represented by vicepresident de palacio i believe that before voting it would help if the commission could let us know how ready it is to present this programme as agreed', 'alternatively parliament is not ready to examine this programme as some appear to be suggesting', \"in my opinion this second hypothesis would imply the failure of parliament in its duty as a parliament as well as introducing an original thesis an unknown method which consists of making political groups aware in writing of a speech concerning the commission' s programme a week earlier  and not a day earlier as had been agreed  bearing in mind that the legislative programme will be discussed in february so we could forego the debate since on the next day our citizens will hear about it in the press and on the internet and parliament will no longer have to worry about it\", 'therefore the proposal of the group of the party of european socialists and which you have mentioned is that the prodi commission present its legislative programme on wednesday including its proposed administrative reform because otherwise we could find ourselves in a paradoxical situation on the pretext that there is no text on the one hand the president of the commission would be denied his right to speak in this parliament and on the other hand there would be a debate on a reform when parliament had no prior knowledge of the texts on which it is based', 'therefore madam president i would ask you to request that the commission express its opinion on this issue and that we then proceed to the vote', 'applause from the pse group', 'madam president i would like to make it very clear that above all the commission has absolute respect for the decisions of this parliament and amongst those the decision establishing its agenda', 'we therefore respect whatever parliament may decide', \"but i would also like to make it very clear that president prodi made a commitment to this parliament to introduce a new debate as mr barn crespo has reminded us which would be in addition to the annual debate on the commission' s legislative programme on the broad areas of action for the next five years that is to say for this legislature\", \"madam president i would like to say that the agreement reached in september distinguished this debate from the annual presentation of the commission' s legislative programme\", 'therefore madam president i would like to repeat that the commission has debated the action plan for the next five years and when parliament decides  this week if that is the decision  we are prepared to come and explain the programme for the next five years and next month the programme for 2000 which is what we fully agreed upon', 'i was told that large sections of the socialist group were also keen to have this item taken off the agenda because at the vote in the conference of presidents no vote was received from the working group of members of the socialist group responsible for this matter', 'i do not know whether this information is correct but the ppede group would in any case be grateful if this item were removed because parliament has addressed this issue several times already', 'decisions have also been adopted against a tax of this kind', 'that is why my group moves that this item be taken off the agenda', 'thank you mr poettering', \"madam president i would firstly like to point out mr poettering' s lack of logic\", 'he has just been preaching to the group of the party of european socialists because they went back on a decision taken in a perfectly clear manner at the conference of presidents and now he is doing just the same', 'we discussed that matter and we were unanimous with the exception of the ppe and eldr groups', 'as my fellow chairmen will recall i even mentioned that it was not a matter of knowing whether one was for or against the tobin tax but of whether one dared to hear what the commission and the council thought of it', 'it is not a lot to ask', \"we shall proceed to vote on the ppede group' s request that the oral question regarding the capital tax be withdrawn from the agenda\", 'parliament rejected the request with 164 votes for 166 votes against and 7 abstentions', 'madam president has my vote been counted i was unable to vote electronically since i do not have a card', 'my vote was in favour ', 'indeed if we add the two members who have declared themselves then the result of the vote would be ', 'madam president the presidency has already declared the result of the vote', 'there is no room for amendments', 'clearly there is a problem here that being the case i shall have to make a decision', 'i too forgot my card and i would have voted against', 'i therefore consider that the oral question may be kept on the agenda as per the vote', 'this is the last time that we shall make allowances for members who have forgotten their cards', 'let that be clearly noted and understood', 'we shall continue with the other amendments to the agenda', 'madam president in the earlier vote  and i will abide by your ruling on this matter  on the question of the strategic plan of the commission i indicated that i would like to speak in advance of the vote on behalf of my group', 'that did not happen', 'i would appreciate it if on the close of this item of business i might be allowed to give an explanation of vote on behalf of my group']\n",
      "['ik verklaar de zitting van het europees parlement die op vrijdag 17 december werd onderbroken te zijn hervat ik wens you allen een gelukkig nieuwjaar en hoop dat you een goede vakantie heeft gehad', \"nu wil ik graag op verzoek van een aantal collega's een minuut stilte in acht nemen ter nagedachtenis van de slachtoffers ik doel hiermee met name op de slachtoffers van het noodweer dat verschillende lidstaten van de unie heeft geteisterd\", 'ik wil you vragen deze minuut stilte staande in acht te nemen', 'het parlement neemt staande een minuut stilte in acht', 'mevrouw de voorzitter ik wil een motie van orde stellen', 'you zult via de media hebben vernomen dat er zich in sri lanka een aantal bomexplosies en schietpartijen hebben voorgedaan', 'een van de mensen die zeer recent in sri lanka is vermoord is de heer kumar ponnambalam die een paar maanden geleden nog een bezoek bracht aan het europees parlement', 'zou you mevrouw de voorzitter wellicht een brief kunnen schrijven aan de president van sri lanka waarin you laat weten dat uzelf en het europees parlement deze moord en de overige brute moorden in sri lanka diep betreuren en waarin you haar oproept al het nodige te doen om in deze zeer moeilijke situatie langs vreedzame weg tot verzoening te komen', 'ja mijnheer evans ik denk dat een dergelijk initiatief zeer gepast zou zijn', 'mevrouw de voorzitter ik wil een motie van orde stellen', 'ik vraag uw advies over artikel 143 van het reglement met betrekking tot nietontvankelijkheid', 'mijn vraag betreft een zaak die voor donderdag op de agenda staat en waarop ik dan opnieuw zal ingaan', \"het verslag cunha over het resultaat van de meerjarige orintatieprogramma's voor de vissersvloot wordt donderdag in het parlement besproken in artikel 6 van dit verslag wordt voorgesteld een soort strafkorting op vangstquota toe te passen voor lidstaten die zich niet houden aan de jaarlijkse doelstellingen voor vlootinkrimping\", 'ik zou graag willen weten of een dergelijk bezwaar kan worden ingebracht tegen enkel een verslag dus niet een ontwerpwetgevingsvoorstel en of ik aanstaande donderdag gerechtigd ben dit te doen', 'dat is inderdaad het juiste moment om dit vraagstuk ter tafel te brengen dat wil zeggen donderdag voordat het verslag wordt gepresenteerd', 'mevrouw de voorzitter helaas valt de eerste vergaderperiode van het europees parlement in het nieuwe jaar samen met de executie van een jonge terdoodveroordeelde van 34 jaar hicks genaamd', 'deze executie is door de staat texas van de verenigde staten vastgesteld voor aanstaande donderdag', 'op initiatief van een van de franse afgevaardigden de heer zimeray is al een petitie aangeboden die door velen is ondertekend onder andere door mij', 'maar ik wil you vragen om in uw hoedanigheid van voorzitter van het europees parlement uw invloed aan te wenden bij de president en de gouverneur van de staat texas de heer bush die de macht heeft om de terdoodveroordeling op te schorten en de veroordeelde gratie te verlenen in overeenstemming met het standpunt van het europees parlement en de gehele europese gemeenschap zoals dat herhaaldelijk naar voren is gekomen', 'bovendien is een dergelijke actie in overeenstemming met onze grondbeginselen', 'hartelijk dank mijnheer segni dat wil ik graag doen', 'het ligt ook geheel in de lijn van de standpunten die ons parlement altijd met betrekking tot dergelijke vraagstukken heeft ingenomen', 'mevrouw de voorzitter ik zou op een geval willen wijzen waarmee dit parlement zich keer op keer bezig heeft gehouden het gevalalexander nikitin', 'we weten allemaal en hebben dat ook gezegd in talloze resoluties onder andere nog tijdens de laatste plenaire vergadering vorig jaar dat dit niet alleen een geval voor juristen is en dat het verkeerd is alexander nikitin te beschuldigen van misdrijven en verraad wij zijn namelijk direct betrokken bij de resultaten van zijn onderzoek en profiteren ervan', \"deze resultaten vormen de basis voor de europese programma' s voor de bescherming van de barentszzee en daarom zou ik you willen vragen een brief te bestuderen waarin de belangrijkste feiten worden samengevat en een standpunt te bepalen over de besluiten van het russische parlement\", 'mevrouw schroedter nadat ik uw brief ontvangen heb zal ik de feiten die op dit vraagstuk betrekking hebben zeker bestuderen', 'voorzitter ik zou you eerst een compliment willen maken met het feit dat you woord hebt gehouden en dat inderdaad nu in deze eerste vergaderperiode in het nieuwe jaar het aantal televisiezenders op onze kamer daadwerkelijk enorm is uitgebreid', 'dus ik zou you nogmaals willen vragen om er toch zorg voor te dragen dat wij ook een nederlandse zender krijgen', 'mevrouw plooijvan gorsel ik kan you mededelen dat dit vraagstuk op de agenda van de vergadering van het college van quaestoren van aanstaande woensdag staat', 'het zal naar ik hoop op bevredigende wijze worden opgelost', 'mevrouw de voorzitter kunt you mij uitleggen waarom dit parlement zich niet houdt aan gezondheids en veiligheidsvoorschriften die het zelf vaststelt', 'waarom is de kwaliteit van de lucht in dit gebouw nooit onderzocht sinds de verkiezingen', 'waarom heeft het comit voor veiligheid en hygine sinds 1998 niet meer vergaderd', 'waarom is er noch in het parlementsgebouw in brussel noch hier in straatsburg een brandweeroefening gehouden', 'waarom zijn er nergens instructies over wat te doen in geval van brand', 'waarom zijn er sinds mijn ongeval geen verbeteringen aangebracht aan de trappen', 'het is absoluut onaanvaardbaar dat wij wetgeving goedkeuren en dat wij ons daar zelf niet aan houden', 'mevrouw lynne you hebt volkomen gelijk ik zal nagaan of dit inderdaad niet gebeurd is', 'ik zal het vraagstuk verder aan het college van quaestoren voorleggen ik ben ervan overtuigd dat onze quaestoren ervoor zullen zorgdragen dat de wetgeving waarover we ons hebben uitgesproken ook daadwerkelijk wordt nageleefd', 'mevrouw de voorzitter mevrouw dez gonzlez en ikzelf hadden samen een aantal vragen gesteld naar aanleiding van bepaalde uitspraken van commissaris de palacio in een spaans dagblad', 'de voor de agenda verantwoordelijke diensten hebben die vragen niet op de agenda geplaatst daar die vragen al in een andere vergaderperiode beantwoord zouden zijn', 'daar dat niet zo is verzoek ik het desbetreffende besluit te heroverwegen', 'de eerder beantwoorde vragen betreffen de bijdrage van mevrouw de palacio over een ander dossier en gaan niet over de uitspraken die 18 november jongstleden in de krant abc zijn verschenen', 'ik moet you bekennen dat ik de situatie nu enigszins verwarrend vind', 'we zullen daarom deze kwestie zorgvuldig nagaan en correct volgens de regels handelen', 'de overgrote meerderheid van het parlement heeft zich in het verleden immers uitgesproken voor dit embargogezien de situatie in indonesi is het besluit het embargo niet te verlengen uiterst riskant', 'het parlement moet dan ook een signaal afgeven aangezien een grote meerderheid dit wenstdat de lidstaten van de europese unie weigeren het embargo te verlengen is zonder meer onverantwoordelijk de explosieve situatie in het land in aanmerking nemend', 'het gevaar van een militaire coup is niet denkbeeldigwij weten niet wat er aan de hand is', 'waarom zouden euwapenfabrikanten moeten profiteren van een situatie die ten koste gaan van onschuldige mensen', 'dit punt staat op dit moment in ieder geval niet voor het actualiteitendebat van donderdag ingeschreven', 'regeling van de werkzaamheden', 'aan de orde is de behandeling van de definitieve ontwerpagenda zoals deze op de conferentie van voorzitters op donderdag 13 januari is vastgesteld overeenkomstig artikel 110 van het reglement', 'ik heb geen wijzigingen voor de maandag en de dinsdag', 'woensdag 19 januari', 'ik zou de heer barn crespo willen vragen zijn verzoek om inschrijving hier toe te lichten', 'vervolgens zullen we de gebruikelijke procedure volgen dat wil zeggen dat we een voorstander en een tegenstander van dit verzoek het woord zullen geven', 'mevrouw de voorzitter de presentatie van het politieke programma van de commissie prodi voor de hele legislatuur was oorspronkelijk een voorstel van fractie van de partij van de europese sociaaldemocraten dat in september de unanieme steun kreeg van de conferentie van voorzitters ook de heer prodi gaf er uitdrukkelijk zijn steun aan en in de rede waarmee hij zijn benoeming aanvaardde heeft hij die toezegging nog eens herhaald', 'die toezegging is vooral belangrijk omdat de commissie volgens de verdragen het monopolie heeft op het initiatiefrecht en dus eigenlijk vorm geeft aan wat de komende vijf jaar de politieke en de wetgevende activiteit van dit parlement zal zijn', 'bovendien wil ik eraan herinneren mevrouw de voorzitter dat dit parlement in de vorige legislatuur tweemaal zijn vertrouwen heeft uitgesproken in de heer prodi als voorzitter van de commissie', 'er is derhalve in theorie voldoende tijd geweest voor de commissie om haar programma op te stellen en voor ons om er dan kennis van te nemen en uitleg te geven aan de burgers', 'in dit verband wil ik wijzen op de resolutie van 15 september waarin de commissie de aanbeveling kreeg het voorstel zo snel mogelijk in te dienen', 'de gebeurtenissen van de vorige week in de marge van de conferentie van voorzitters waarbij de conferentie van voorzitters alleen maar gebruikt is om elders genomen besluiten te bekrachtigen en te ratificeren plaatsen ons voor een dilemma ofwel de commissie is niet in staat dat programma te presenteren ofwel zoals sommigen schijnen te beweren het parlement is niet in staat dat programma te behandelen', 'in het eerste geval zou de commissie haar onvermogen moeten toelichten want volgens de voorzitter van de commissie is de commissie klaar voor de presentatie', 'daar de commissie hier vertegenwoordigd is door haar vicevoorzitter mevrouw de palacio denk ik dat het gepast zou zijn om voor wij gaan stemmen van de commissie te horen hoe het zit met haar bereidheid het programma te presenteren zoals is afgesproken naar mijn mening houdt de tweede hypothese in dat wij als parlement onze verantwoordelijkheid verwaarlozen', 'volgens een tot nu onbekende procedure krijgen de fracties een week van tevoren  en niet zoals afgesproken n dag van tevoren  de geschreven toespraak over het programma van de commissie', 'bovendien is dit wel een zeer originele thesis want het wetgevingsprogramma wordt in februari behandeld wij zouden dan ook kunnen afzien van het debat over dat programma daar de dag nadat de fracties het gekregen hebben alle burgers dan via de pers en internet genformeerd zouden zijn en het parlement niets meer met het onderwerp zou kunnen doen', 'derhalve doet de fractie van de partij van de europese sociaaldemocraten het voorstel dat door you genoemd is mevrouw de voorzitter om woensdag de presentatie van het programma voor de hele legislatuur van de commissie prodi te handhaven bij dat programma hoort ook de administratieve hervorming van de commissie want anders zouden wij met een paradoxale situatie te maken kunnen krijgen', 'onder het voorwendsel dat er geen tekst is wordt namelijk aan de ene kant de voorzitter van de commissie het recht ontzegd voor dit parlement te spreken en wordt er aan de andere kant een debat gehouden over de hervorming terwijl het parlement de teksten daarvan niet van tevoren kent daarom verzoek ik you mevrouw de voorzitter eerst de commissie te vragen om haar mening te laten horen en daarna te laten stemmen', 'applaus van de psefractie', 'mevrouw de voorzitter allereerst wil ik duidelijk maken dat de commissie alle respect heeft voor de besluiten die dit parlement neemt met inbegrip van het opstellen van de agenda', 'derhalve respecteren wij wat het parlement in dit verband zal besluiten', 'maar ik wens ook duidelijk te maken dat voorzitter prodi zich tegenover het parlement verplicht heeft zoals de heer barn in herinnering heeft geroepen om naast het jaarlijks debat over het wetgevingsprogramma van de commissie een nieuw debat te houden over de grote lijnen van het beleid voor de komende vijf jaar dat wil zeggen voor deze hele legislatuur', 'ik wil erop wijzen mevrouw de voorzitter dat dat debat zich volgens het in septembere bereikte akkoord zou onderscheiden van het debat over het jaarlijks wetgevingsprogramma van de commissie', 'daarom wil ik herhalen mevrouw de voorzitter dat wij als commissie het beleidsprogramma voor de komende vijf jaar besproken hebben en dat indien het parlement zo mocht besluiten  eventueel nog deze week  wij exact volgens de afspraak klaar zijn om dit programma voor de komende vijf jaar te komen toelichten en om de volgende maand hetzelfde te doen met het programma voor het jaar 2000', 'ik heb ook gehoord dat veel leden van die fractie dit punt graag van de agenda zouden willen afvoeren omdat ten tijde van de stemming in de conferentie van voorzitters het standpunt van de socialistische leden van de werkgroep die zich met deze zaken bezig houdt nog niet beschikbaar was', 'ik weet niet of dat klopt maar wij als ppedefractie zouden dankbaar zijn als dit punt van de agenda zou kunnen worden afgevoerd het parlement heeft zich namelijk al meerdere malen met deze kwestie bezig gehouden', 'er is ook al besloten om deze belasting af te wijzen', 'daarom vraagt mijn fractie dit punt van de agenda af te voeren', 'hartelijk dank mijnheer poettering', 'mevrouw de voorzitter ik wil allereerst benadrukken dat de logica in het betoog van de heer poettering ver te zoeken is', 'zojuist heeft hij de socialistische fractie de les gelezen omdat deze fractie terugkomt op een besluit dat overduidelijk tijdens de conferentie van voorzitters is genomen vervolgens handelt hij op precies dezelfde wijze als deze fractie', 'wij hebben over dit vraagstuk gedebatteerd en waren met uitzondering van de ppedefractie en de liberale fractie allen dezelfde mening toegedaan', 'zoals you zich herinnert heb ik opgemerkt waarde collegavoorzitters dat het er niet zozeer toe doet of you voor of tegen de todinheffing bent maar dat you van de commissie en de raad durft te verlangen dat ze hun mening over dit vraagstuk kenbaar maken', 'dat is toch niet teveel gevraagd', 'we gaan stemmen over het verzoek van de ppedefractie om de mondelinge vragen over hoofdelijke belasting van de agenda te schrappen', 'het parlement verwerpt het verzoek met 164 stemmen voor 166 stemmen tegen en 7 onthoudingen', 'mevrouw de voorzitter is mijn stem die ik elektronisch niet heb kunnen uitbrengen omdat ik mijn stemkaart niet bij mij heb meegeteld', 'ik was vr', \"inderdaad als we de stemmen van beide collega's die van zich hebben laten horen bij de uitslag optellen dan wordt het resultaat\", 'mevrouw de voorzitter you heeft de uitslag van de stemming bekendgemaakt', 'daaraan mag niets veranderd worden', 'we hebben nu een probleem en ik zal daarom een beslissing moeten nemen', 'ik ben mijn kaart ook vergeten en zou anders tegen hebben gestemd', 'ik vind dus dat de mondelinge vraag op de agenda moet blijven staan', \"dit is de laatste keer dat we rekening houden met collega's die hun kaart vergeten zijn\", 'laat dit nu voor eens en altijd duidelijk zijn', 'we gaan nu verder met de andere wijzigingen in de agenda', 'mevrouw de voorzitter laat mij vooropstellen dat ik mij zal neerleggen bij uw uitspraak in dezen maar bij de eerdere stemming over de commissiestrategie had ik voorafgaand aan de stemming namens mijn fractie het woord willen voeren', 'dit is niet gebeurd', 'ik zou het waarderen indien ik na afsluiting van dit punt de gelegenheid zou krijgen namens mijn fractie een stemverklaring uit te spreken']\n"
     ]
    }
   ],
   "source": [
    "print(en_train_clean[:100])\n",
    "print(nl_train_clean[:100])"
   ],
   "metadata": {
    "collapsed": false,
    "ExecuteTime": {
     "end_time": "2024-03-16T15:40:00.607951Z",
     "start_time": "2024-03-16T15:40:00.606198Z"
    }
   },
   "id": "d4d6e6dc8e7e24ad"
  },
  {
   "cell_type": "code",
   "execution_count": null,
   "outputs": [],
   "source": [
    "# tokenizer and detokenizer\n",
    "def tokenize_batch():\n",
    "    "
   ],
   "metadata": {
    "collapsed": false
   },
   "id": "12ae3356685a5b40"
  }
 ],
 "metadata": {
  "kernelspec": {
   "display_name": "Python 3",
   "language": "python",
   "name": "python3"
  },
  "language_info": {
   "codemirror_mode": {
    "name": "ipython",
    "version": 2
   },
   "file_extension": ".py",
   "mimetype": "text/x-python",
   "name": "python",
   "nbconvert_exporter": "python",
   "pygments_lexer": "ipython2",
   "version": "2.7.6"
  }
 },
 "nbformat": 4,
 "nbformat_minor": 5
}
