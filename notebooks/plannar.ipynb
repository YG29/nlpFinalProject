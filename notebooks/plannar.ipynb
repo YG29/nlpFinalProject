{
 "cells": [
  {
   "cell_type": "markdown",
   "source": [
    "# transformer machine translation project"
   ],
   "metadata": {
    "collapsed": false
   },
   "id": "24668c3df4436e50"
  },
  {
   "cell_type": "markdown",
   "source": [
    "general notes: use tensorflow(the lower level) instead of keras. It's a lot easier to customize. "
   ],
   "metadata": {
    "collapsed": false
   },
   "id": "63e69025a1e8990e"
  },
  {
   "cell_type": "markdown",
   "source": [
    "- https://www.tensorflow.org/text/tutorials/nmt_with_attention (if transformer doesn't work out we can go back to seq2seq)\n",
    "- https://www.tensorflow.org/text/tutorials/transformer (this is the tutorial we can follow)\n",
    "\n",
    "- data prep:\n",
    "1. clean the text (doing this right now plus tokenizing)\n",
    "  - https://machinelearningmastery.com/clean-text-machine-learning-python/\n",
    "2. add bos, eos (take care of the offset as well)\n",
    "3. create word index (word->index and index->word)\n",
    "4. pad sentence to max length\n",
    "\n",
    "- I think making a transformer model for translation would be fun. Like build a GPT2 for translation. \n",
    "- "
   ],
   "metadata": {
    "collapsed": false
   },
   "id": "795d286826f1568f"
  },
  {
   "cell_type": "code",
   "execution_count": 1,
   "outputs": [
    {
     "name": "stdout",
     "output_type": "stream",
     "text": [
      "\n",
      "Devices:  [PhysicalDevice(name='/physical_device:CPU:0', device_type='CPU'), PhysicalDevice(name='/physical_device:GPU:0', device_type='GPU')]\n",
      "GPU details:  {'device_name': 'METAL'}\n"
     ]
    }
   ],
   "source": [
    "# test for utilizing gpu\n",
    "# https://medium.com/bluetuple-ai/how-to-enable-gpu-support-for-tensorflow-or-pytorch-on-macos-4aaaad057e74#:~:text=If%20you're%20using%20a,support%20in%20PyTorch%20and%20TensorFlow.\n",
    "import tensorflow as tf\n",
    "devices = tf.config.list_physical_devices()\n",
    "print(\"\\nDevices: \", devices)\n",
    "\n",
    "gpus = tf.config.list_physical_devices('GPU')\n",
    "if gpus:\n",
    "  details = tf.config.experimental.get_device_details(gpus[0])\n",
    "  print(\"GPU details: \", details)"
   ],
   "metadata": {
    "collapsed": false,
    "ExecuteTime": {
     "end_time": "2024-03-13T18:01:35.788196Z",
     "start_time": "2024-03-13T18:01:31.172463Z"
    }
   },
   "id": "c4e04eee7b9ded26"
  },
  {
   "cell_type": "code",
   "execution_count": null,
   "outputs": [],
   "source": [],
   "metadata": {
    "collapsed": false
   },
   "id": "9ed52304c8a05b99"
  }
 ],
 "metadata": {
  "kernelspec": {
   "display_name": "Python 3",
   "language": "python",
   "name": "python3"
  },
  "language_info": {
   "codemirror_mode": {
    "name": "ipython",
    "version": 2
   },
   "file_extension": ".py",
   "mimetype": "text/x-python",
   "name": "python",
   "nbconvert_exporter": "python",
   "pygments_lexer": "ipython2",
   "version": "2.7.6"
  }
 },
 "nbformat": 4,
 "nbformat_minor": 5
}
